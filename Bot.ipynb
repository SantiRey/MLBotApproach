{
 "cells": [
  {
   "cell_type": "markdown",
   "metadata": {},
   "source": [
    "# Sofka hackton Grupo PubDev\n",
    "En este Jupyter estara la implementacion que se realizara al proyecto Bot con Aprendizaje automatico para preguntas y respuestas.\n",
    "\n",
    "[Link de los tema de la hackton](https://www.sofka.com.co/es/sofkathon-2020/)\n",
    "\n",
    "\n",
    "## Posibles necesidades:\n",
    "una de las posibles implementaciones que se requerira en el documento que se entregue es la idea de un chatbot como api para una web comercial, en la cual el bot aprendera de los usuario y de la data suministrada por el administrador para posibles respuestas\n",
    "\n",
    "\n",
    "\n",
    "\n",
    "## posibles primeros avances para el proyecto\n",
    "\n",
    "[Telegram Bot](https://github.com/SantiRey/TextClasifficationRedditTelegram)\n",
    "[NLP Hard Documentation](https://nlp.seas.harvard.edu/papers/)"
   ]
  },
  {
   "cell_type": "code",
   "execution_count": null,
   "metadata": {},
   "outputs": [],
   "source": []
  }
 ],
 "metadata": {
  "kernelspec": {
   "display_name": "Python 3",
   "language": "python",
   "name": "python3"
  },
  "language_info": {
   "codemirror_mode": {
    "name": "ipython",
    "version": 3
   },
   "file_extension": ".py",
   "mimetype": "text/x-python",
   "name": "python",
   "nbconvert_exporter": "python",
   "pygments_lexer": "ipython3",
   "version": "3.8.5"
  }
 },
 "nbformat": 4,
 "nbformat_minor": 4
}
